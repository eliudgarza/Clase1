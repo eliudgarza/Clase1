{
  "nbformat": 4,
  "nbformat_minor": 0,
  "metadata": {
    "colab": {
      "name": "01.ipynb",
      "provenance": [],
      "authorship_tag": "ABX9TyMDuATuBjVrrHc1euKXG9WY",
      "include_colab_link": true
    },
    "kernelspec": {
      "name": "python3",
      "display_name": "Python 3"
    },
    "language_info": {
      "name": "python"
    }
  },
  "cells": [
    {
      "cell_type": "markdown",
      "metadata": {
        "id": "view-in-github",
        "colab_type": "text"
      },
      "source": [
        "<a href=\"https://colab.research.google.com/github/eliudgarza/Clase1/blob/Testing_branch/01.ipynb\" target=\"_parent\"><img src=\"https://colab.research.google.com/assets/colab-badge.svg\" alt=\"Open In Colab\"/></a>"
      ]
    },
    {
      "cell_type": "code",
      "execution_count": 1,
      "metadata": {
        "id": "LrRW5mz_M87e",
        "outputId": "ae32a500-e716-4dfa-fbbc-5fa51b2c0c17",
        "colab": {
          "base_uri": "https://localhost:8080/"
        }
      },
      "outputs": [
        {
          "output_type": "stream",
          "name": "stdout",
          "text": [
            "Primer Mensaje\n"
          ]
        }
      ],
      "source": [
        "print('Primer Mensaje')"
      ]
    },
    {
      "cell_type": "code",
      "source": [
        "print('Estoy modificando en el branch 1')"
      ],
      "metadata": {
        "id": "yfbTuqsjNblr",
        "outputId": "60dacb6b-885b-47f2-de59-2b7e3a321fe5",
        "colab": {
          "base_uri": "https://localhost:8080/"
        }
      },
      "execution_count": 2,
      "outputs": [
        {
          "output_type": "stream",
          "name": "stdout",
          "text": [
            "Estoy modificando en el branch 1\n"
          ]
        }
      ]
    }
  ]
}